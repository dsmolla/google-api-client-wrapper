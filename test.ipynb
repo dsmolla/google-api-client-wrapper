{
 "cells": [
  {
   "metadata": {
    "ExecuteTime": {
     "end_time": "2025-07-10T21:38:24.509713Z",
     "start_time": "2025-07-10T21:38:24.502127Z"
    }
   },
   "cell_type": "code",
   "source": "from google_client import calendar_client, gmail_client",
   "id": "2232be9d87ad6161",
   "outputs": [],
   "execution_count": 3
  },
  {
   "metadata": {
    "ExecuteTime": {
     "end_time": "2025-07-10T21:48:30.877786Z",
     "start_time": "2025-07-10T21:48:30.669092Z"
    }
   },
   "cell_type": "code",
   "source": [
    "events = calendar_client.CalendarEvent.list_events()\n",
    "description = events[0].description\n",
    "import html2text\n",
    "print(html2text.html2text(description))\n",
    "\n"
   ],
   "id": "3a4e7a8f45b0cf76",
   "outputs": [
    {
     "name": "stdout",
     "output_type": "stream",
     "text": [
      "🗓️**Class: Tue and Thu | 3–5 PM PT / 6-8 PM ET  \n",
      "** 🔗 [**Join\n",
      "Link**](https://apply.codepath.org/session/b3324a4b878db553c18fe23069edeba9/?location=7523)\n",
      "_(Passcode: codepath)  \n",
      "_ ➡️ Link opens 30 minutes before class starts\n",
      "\n",
      "🕰️  _Note: Your calendar may show a different time based on your local time\n",
      "zone.___\n",
      "\n",
      "❓**Need help?** Email [support@codepath.org](mailto:support@codepath.org).\n",
      "\n",
      "\n"
     ]
    },
    {
     "data": {
      "text/plain": [
       "'<p>🗓️<b> Class: Tue and Thu | 3–5 PM PT / 6-8 PM ET<br></b>🔗\\xa0<a href=\"https://apply.codepath.org/session/b3324a4b878db553c18fe23069edeba9/?location=7523\" target=\"_blank\"><b>Join Link</b></a>\\xa0<i>(Passcode: codepath)<br></i>➡️ Link opens 30 minutes before class starts</p><p>🕰️\\xa0<i>Note: Your calendar may show a different time based on your local time zone.</i><i></i></p><p></p><p>❓<b>Need help?</b>\\xa0Email\\xa0<a href=\"mailto:support@codepath.org\" target=\"_blank\">support@codepath.org</a>.</p>'"
      ]
     },
     "execution_count": 11,
     "metadata": {},
     "output_type": "execute_result"
    }
   ],
   "execution_count": 11
  }
 ],
 "metadata": {
  "kernelspec": {
   "display_name": "Python 3",
   "language": "python",
   "name": "python3"
  },
  "language_info": {
   "codemirror_mode": {
    "name": "ipython",
    "version": 3
   },
   "file_extension": ".py",
   "mimetype": "text/x-python",
   "name": "python",
   "nbconvert_exporter": "python",
   "pygments_lexer": "ipython3",
   "version": "3.12.3"
  }
 },
 "nbformat": 4,
 "nbformat_minor": 5
}
