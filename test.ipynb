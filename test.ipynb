{
 "cells": [
  {
   "metadata": {
    "ExecuteTime": {
     "end_time": "2025-07-29T19:39:36.692728Z",
     "start_time": "2025-07-29T19:39:36.458542Z"
    }
   },
   "cell_type": "code",
   "source": [
    "from google_client import calendar_client, gmail_client, async_calendar_client, async_event_query_builder, event_query_builder\n",
    "from google_client.async_calendar_client import AsyncCalendarEvent"
   ],
   "id": "2232be9d87ad6161",
   "outputs": [],
   "execution_count": 13
  },
  {
   "metadata": {
    "ExecuteTime": {
     "end_time": "2025-07-23T22:02:52.226466Z",
     "start_time": "2025-07-23T22:02:52.074986Z"
    }
   },
   "cell_type": "code",
   "source": [
    "events = calendar_client.CalendarEvent.list_events()\n",
    "events[1].is_all_day()\n",
    "\n"
   ],
   "id": "3a4e7a8f45b0cf76",
   "outputs": [
    {
     "data": {
      "text/plain": [
       "True"
      ]
     },
     "execution_count": 12,
     "metadata": {},
     "output_type": "execute_result"
    }
   ],
   "execution_count": 12
  },
  {
   "metadata": {
    "ExecuteTime": {
     "end_time": "2025-07-23T22:02:07.153624Z",
     "start_time": "2025-07-23T22:02:06.728515Z"
    }
   },
   "cell_type": "code",
   "source": [
    "events = await (AsyncCalendarEvent.query()\n",
    "            .limit(50)\n",
    "            .this_month()\n",
    "            .search(\"meeting\")\n",
    "            .in_calendar(\"work@company.com\")\n",
    "            .execute())"
   ],
   "id": "9e744f4d76bc7f2d",
   "outputs": [
    {
     "data": {
      "text/plain": [
       "Summary: 'Test event'\n",
       "Description: 'Test description'\n",
       "Location: 'Test location'\n",
       "Time: Wed, 23 Jul 2025 06:02 PM - 07:02 PM\n",
       "Link: 'https://www.google.com/calendar/event?eid=MnRyNzZ1bHU4M2E3YWJmY2Z0ZG9iM2lma3MgZGFnbWF3aXNoZXdhZGVnQG0'\n",
       "Attendees: dsmolla@ncsu.edu"
      ]
     },
     "execution_count": 6,
     "metadata": {},
     "output_type": "execute_result"
    }
   ],
   "execution_count": 6
  }
 ],
 "metadata": {
  "kernelspec": {
   "display_name": "Python 3",
   "language": "python",
   "name": "python3"
  },
  "language_info": {
   "codemirror_mode": {
    "name": "ipython",
    "version": 3
   },
   "file_extension": ".py",
   "mimetype": "text/x-python",
   "name": "python",
   "nbconvert_exporter": "python",
   "pygments_lexer": "ipython3",
   "version": "3.12.3"
  }
 },
 "nbformat": 4,
 "nbformat_minor": 5
}
